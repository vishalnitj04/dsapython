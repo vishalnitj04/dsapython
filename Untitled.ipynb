{
 "cells": [
  {
   "cell_type": "code",
   "execution_count": 3,
   "id": "a7c699a4-1677-43f4-8495-2779594182f6",
   "metadata": {},
   "outputs": [
    {
     "ename": "IndentationError",
     "evalue": "unindent does not match any outer indentation level (<string>, line 23)",
     "output_type": "error",
     "traceback": [
      "\u001b[0;36m  File \u001b[0;32m<string>:23\u001b[0;36m\u001b[0m\n\u001b[0;31m    def list(self):\u001b[0m\n\u001b[0m                   ^\u001b[0m\n\u001b[0;31mIndentationError\u001b[0m\u001b[0;31m:\u001b[0m unindent does not match any outer indentation level\n"
     ]
    }
   ],
   "source": [
    "class Stack:\n",
    "    def __init__(self):\n",
    "        self.items = []\n",
    "\n",
    "    def is_empty(self):\n",
    "        return len(self.items) == 0\n",
    "\n",
    "    def push(self, item):\n",
    "        self.items.append(item)\n",
    "\n",
    "    def pop(self):\n",
    "        if self.is_empty():\n",
    "            raise IndexError(\"pop from empty stack\")\n",
    "        return self.items.pop()\n",
    "\n",
    "    def peek(self):\n",
    "        if self.is_empty():\n",
    "            raise IndexError(\"peek from empty stack\")\n",
    "        return self.items[-1]\n",
    "\n",
    "    def size(self):\n",
    "        return len(self.items)\n",
    "     def list(self):\n",
    "        return (self.items)    \n",
    "\n",
    "# User input example\n",
    "if __name__ == \"__main__\":\n",
    "    stack = Stack()\n",
    "    while True:\n",
    "        print(\"\\nOptions: push <item>, pop, peek, size, is_empty, quit,list\")\n",
    "        command = input(\"Enter command: \").strip().lower()\n",
    "        if command.startswith(\"push\"):\n",
    "            _, item = command.split(maxsplit=1)\n",
    "            stack.push(item)\n",
    "            print(f\"Pushed {item}\")\n",
    "        elif command == \"pop\":\n",
    "            try:\n",
    "                print(\"Popped:\", stack.pop())\n",
    "            except IndexError as e:\n",
    "                print(e)\n",
    "        elif command == \"peek\":\n",
    "            try:\n",
    "                print(\"Top element:\", stack.peek())\n",
    "            except IndexError as e:\n",
    "                print(e)\n",
    "        elif command == \"size\":\n",
    "            print(\"Stack size:\", stack.size())\n",
    "        elif command == \"is_empty\":\n",
    "            print(\"Stack is empty?\", stack.is_empty())\n",
    "        elif command == \"list\":\n",
    "            print(\"Stack list?\", stack.list())\n",
    "        elif command == \"quit\":\n",
    "            break\n",
    "        else:\n",
    "            print(\"Invalid command.\")"
   ]
  },
  {
   "cell_type": "code",
   "execution_count": null,
   "id": "650bb3e4-d8b9-4d80-8d3a-ec6e60d80deb",
   "metadata": {},
   "outputs": [],
   "source": []
  }
 ],
 "metadata": {
  "kernelspec": {
   "display_name": "Python 3 (ipykernel)",
   "language": "python",
   "name": "python3"
  },
  "language_info": {
   "codemirror_mode": {
    "name": "ipython",
    "version": 3
   },
   "file_extension": ".py",
   "mimetype": "text/x-python",
   "name": "python",
   "nbconvert_exporter": "python",
   "pygments_lexer": "ipython3",
   "version": "3.12.7"
  }
 },
 "nbformat": 4,
 "nbformat_minor": 5
}
